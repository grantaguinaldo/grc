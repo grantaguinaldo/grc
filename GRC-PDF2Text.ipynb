{
 "cells": [
  {
   "cell_type": "code",
   "execution_count": 1,
   "metadata": {},
   "outputs": [],
   "source": [
    "import PyPDF2 as pp "
   ]
  },
  {
   "cell_type": "code",
   "execution_count": 2,
   "metadata": {},
   "outputs": [],
   "source": [
    "file = 'SCGC-DR-004-Final.pdf'\n",
    "file2 = 'CFC-SEU-018_final_combined.pdf'"
   ]
  },
  {
   "cell_type": "code",
   "execution_count": 3,
   "metadata": {},
   "outputs": [
    {
     "name": "stderr",
     "output_type": "stream",
     "text": [
      "PdfReadWarning: Xref table not zero-indexed. ID numbers for objects will be corrected. [pdf.py:1736]\n"
     ]
    }
   ],
   "source": [
    "fileObj = open(file2, 'rb')\n",
    "pdfReader = pp.PdfFileReader(fileObj)"
   ]
  },
  {
   "cell_type": "code",
   "execution_count": 4,
   "metadata": {},
   "outputs": [
    {
     "data": {
      "text/plain": [
       "11"
      ]
     },
     "execution_count": 4,
     "metadata": {},
     "output_type": "execute_result"
    }
   ],
   "source": [
    "pdfReader.numPages"
   ]
  },
  {
   "cell_type": "code",
   "execution_count": 5,
   "metadata": {},
   "outputs": [
    {
     "data": {
      "text/plain": [
       "\"CFC\\n DATA REQUEST\\n CFC\\n-Sempra\\n-2019 #18 SOCALGAS 201\\n9 GRC\\n  A.17-10-008 SDG&E 2019 GRC \\n A.17\\n-10-007 DATE RECEIVED:  \\nAPRIL 26\\n, 2018 DATE RESPONDED:  \\nMAY\\n 11, 2018  SDG&E and \\nSoCalGas\\n Response\\n 07 Continued\\n:  b. For \\nthe purposes of \\nthis question, \\nthe position of\\n Construction Tec\\nhnician \\nis used \\nas an \\nexample for a gas \\ntechnician. The average years of service for a Construction Technician \\nis 5 years. \\n Even though a Construction Technician \\nmay remain in that classification\\n for \\nthat length \\nof time, the employee typically spends their career rotating between different \\nassig\\nnments within the company\\n that may require other specialized training\\n.  Training for \\nthe Construction Technician position is foundational, \\nand also serves\\n as the prerequisite \\ntraining for \\nadvancement\\n to other positions. \\n  SoCalGas \\nincentivi\\nzes the \\nret\\nentio\\nn of these employees by offering\\n developmental \\ntraining, as well as\\n compensation and benefits\\n.  Please refer to pages \\n25-26 of Exhibit \\nSCG\\n-05-R for a description of this training.  \\nPlease refer to the SCG\\n-30 Direct Testimony \\nof Debbie Robinson \\n- Compensati\\non & Benefits\\n and \\nSCG\\n-32 Direct Testimony of Mary \\nGevorkian \\n- Human Resources Department, Safety, Long\\n-Term Disability & Workers' \\nCompensation\\n in regards to Compensation and \\nBenefits.\\n \""
      ]
     },
     "execution_count": 5,
     "metadata": {},
     "output_type": "execute_result"
    }
   ],
   "source": [
    "pdfReader.getPage(10).extractText()"
   ]
  },
  {
   "cell_type": "code",
   "execution_count": 6,
   "metadata": {},
   "outputs": [],
   "source": [
    "RAW_EXTRACT = [pdfReader.getPage(each).extractText() for each in range(pdfReader.numPages)]"
   ]
  },
  {
   "cell_type": "code",
   "execution_count": 7,
   "metadata": {},
   "outputs": [],
   "source": [
    "CLEAN_EXTRACT = [each.replace('\\n', '').strip() for each in RAW_EXTRACT]"
   ]
  },
  {
   "cell_type": "code",
   "execution_count": 8,
   "metadata": {},
   "outputs": [
    {
     "data": {
      "text/plain": [
       "'CFC DATA REQUEST CFC-Sempra-2019 #18 SOCALGAS 2019 GRC  A.17-10-008 SDG&E 2019 GRC  A.17-10-007 DATE RECEIVED:  APRIL 26, 2018 DATE DUE:  MAY 11, 2018  Question 2: SCG-15, page RDP-A-10, describes the field asset replacement decision tree, and states as follows:  \"It is important to note that no industry-wide standard exists that balances the risk of a pipeline failure with the cost of testing or replacing. Because of the need to apply engineering expertise and consider how the pipelines operate within the overall pipeline system, pipeline operators make this determination on a project-by-project basis.\"   a.  Considering the nature of SCG system compared to that of SDG&E Gas, does Sempra expect the two systems to eventually report similar performance in terms of leaks due to corrosion? Please comment, including in regard to any factors that could account for any persisting differential.  b.  Does Sempra generally expect that the two systems will ultimately have broadly similar leak profiles, for all causes? Please comment.    SoCalGas Response 02:   a. There is no expectation by SoCalGas and SDG&E of similar performance in terms of leaks due to corrosion between the two systems. Each pipeline within both utilities is unique in terms of its pipeline characteristics, installation methods, vintage, location and the surrounding area.  b. SoCalGas objects to the request on the grounds that it is vague and ambiguous, in   Subject to and without waiving this objection, SoCalGas responds as follows:  No, SoCalGas and SDG&E do not expect that because each pipeline within both utilities is unique in terms of its pipeline characteristics, installation methods, vintage, location and the surrounding area.'"
      ]
     },
     "execution_count": 8,
     "metadata": {},
     "output_type": "execute_result"
    }
   ],
   "source": [
    "CLEAN_EXTRACT[1]"
   ]
  },
  {
   "cell_type": "code",
   "execution_count": 9,
   "metadata": {},
   "outputs": [
    {
     "data": {
      "text/plain": [
       "['CFC DATA REQUEST CFC-Sempra-2019 #18 SOCALGAS 2019 GRC  A.17-10-008 SDG&E 2019 GRC  A.17-10-007 DATE RECEIVED:  APRIL 26, 2018 DATE RESPONDED:  MAY 11, 2018   1. SCG-14, page MTM-25, describes the VIPP Program:  \"Starting in 2019, SoCalGas plans to target 78 miles of mains and associated services for replacement above and beyond routine replacements in accordance with DIMP regulations with a 25- to 30-year horizon for wholesale replacement of early vintage plastic. With a 30-year horizon, SoCalGas anticipates continuing to increase the level of replacement over the next 6-8 years while monitoring performance to continually review the benefits and risk reduction accomplished through VIPP through indicators such as leak repair and incident rates related to early vintage plastic.\"   a. Does Sempra distribution set target leak rates per-mile for mains and leak rates per x number of sites, for services? Please explain.  b. If so, what are those leak rates, and how were they arrived at? If not, what performance metric(s) is(are) used to determine the optimal number of leak repairs to be addressed, for future years? Please explain.  c. Over the GRC term, what are the values of the calculated benefits and risk reductions expected as the result of VIPP? Please explain.    SDG&E and SoCalGas Response 01:  a-c: No, the Vintage Integrity Plastic Plan (VIPP) does not set target leak rates for determining replacement of mains and services..  vintage plastic within the 25- to 30-year time frame described in my testimony (Ex. SCG-14, pgs. 24-26).  Success of the program will be measured based on achieving this objective.  As VIPP ramps up in the coming years, the program will be evaluating and addressing any constraints, such as resources, that would prevent this objective from being achieved.  Within the 25- to 30-year time frame, replacement of the early vintage plastic pipelines will be prioritized by considering such criteria as pipeline age, installation conditions, and performance.  Performance considers both completed leak repairs and leaks that are pending repair.  With the objective of wholesale replacement of early vintage plastic and the prioritized replacement strategy, the expected outcome of this program will be a reduction in leaks found, with measurable results in future years.  Because VIPP is part of the Distribution Integrity Management Program (DIMP), which is a mitigant to a Risk Assessment Mitigation Phase (RAMP) risk, performance metrics to quantify benefits and risk reductions are yet to be determined, such as through the future accountability reporting requirements for such, are in the ongoing Safety Model Assessment Proceeding (S-MAP), Application 15-05-002 (consolidated).  Please refer to the testimony of Diana Day for more details regarding this S-MAP process (Ex. SCG-02-R/SDG&E-02-R, Chapter 1 (Day), pages DD-7 lines 23-27 and DD-17 lines 3-4).  Please refer to my testimony (Ex. SCG-14, Section II, pgs. 8-10, 24-25, 27, and 31-32) for a qualitative explanation of the RAMP risk assessment for VIPP.',\n",
       " 'CFC DATA REQUEST CFC-Sempra-2019 #18 SOCALGAS 2019 GRC  A.17-10-008 SDG&E 2019 GRC  A.17-10-007 DATE RECEIVED:  APRIL 26, 2018 DATE DUE:  MAY 11, 2018  Question 2: SCG-15, page RDP-A-10, describes the field asset replacement decision tree, and states as follows:  \"It is important to note that no industry-wide standard exists that balances the risk of a pipeline failure with the cost of testing or replacing. Because of the need to apply engineering expertise and consider how the pipelines operate within the overall pipeline system, pipeline operators make this determination on a project-by-project basis.\"   a.  Considering the nature of SCG system compared to that of SDG&E Gas, does Sempra expect the two systems to eventually report similar performance in terms of leaks due to corrosion? Please comment, including in regard to any factors that could account for any persisting differential.  b.  Does Sempra generally expect that the two systems will ultimately have broadly similar leak profiles, for all causes? Please comment.    SoCalGas Response 02:   a. There is no expectation by SoCalGas and SDG&E of similar performance in terms of leaks due to corrosion between the two systems. Each pipeline within both utilities is unique in terms of its pipeline characteristics, installation methods, vintage, location and the surrounding area.  b. SoCalGas objects to the request on the grounds that it is vague and ambiguous, in   Subject to and without waiving this objection, SoCalGas responds as follows:  No, SoCalGas and SDG&E do not expect that because each pipeline within both utilities is unique in terms of its pipeline characteristics, installation methods, vintage, location and the surrounding area.',\n",
       " 'CFC DATA REQUEST CFC-Sempra-2019 #18 SOCALGAS 2019 GRC  A.17-10-008 SDG&E 2019 GRC  A.17-10-007 DATE RECEIVED:  APRIL 26, 2018 DATE RESPONDED:  MAY 11, 2018  3. SCG-14, page MTM-26, describes the Bare Steel Replacement Program (BSRP):  \"The Bare Steel Replacement Plan (BSRP) as presented in RAMP will continue to focus on the replacement of poor performing bare steel. Starting in 2019, SoCalGas plans to target 29 miles of mains and associated services and targeted replacement of 2,000  4,000 services for replacement above and beyond routine replacements in accordance with DIMP regulations with a 25- to 30-year horizon for wholesale replacement of non-state-of-the-art bare steel. With a 30-year horizon, SoCalGas anticipates continuing to increase the level of replacement over the next 6-8 years, while monitoring performance to continually review the benefits and risk reduction accomplished through BSRP through indicators such as leak repair and incident rates related to bare steel. The lack of protective coating makes steel a high-risk family of pipe and has been identified by DOT and PHMSA as a family of pipe that should be evaluated for an accelerated replacement program.\"   a.  What estimated benefits and risk reduction was achieved by BSRP in each of 2016 and 2017--or for 2015 and 2016, if complete, 2017 data are unavailable?  b.  Do the BSRP replacements result in increased system capacity? Please explain. If so, how much did system capacity change due to BSRP over the two-years 2016 and 2017 (or 2015 and 2016, if applicable, per the previous sub-question)?  c.  Does SCG have a target leak-rate-per-mile (or leak-rate-per-unit for Services), that it intends to achieve? Please explain.  d.  If not, what benchmark(s) did SCG use, in establishing the proposed replacements to be undertaken as part of this GRC? For the 6-8 years mentioned in the quotation?  e.  How will BSRP impact SCG\\'s Mains leak rate per mile, by the end of the Test Year (i.e., by YE2019)? Please explain.  f.  How will BSRP impact SCG\\'s Mains leak rate per mile, by the end of the GRC term (i.e., by YE2021)? Please explain.  g.  How many services will be replaced during 2019, strictly in order to satisfy DIMP regulations?',\n",
       " 'CFC DATA REQUEST CFC-Sempra-2019 #18 SOCALGAS 2019 GRC  A.17-10-008 SDG&E 2019 GRC  A.17-10-007 DATE RECEIVED:  APRIL 26, 2018 DATE RESPONDED:  MAY 11, 2018  SDG&E and SoCalGas Response 03:  a.  Please see the response to Question 1 regarding the ongoing S-determination of the requirements for this GRC.  Please refer to my testimony (Ex. SCG-14, Section II, pgs. 8-10, 26, and 31-32) for a qualitative explanation of the RAMP risk assessment for the BSRP.  The miles replaced for 2015, 2016, and 2017 are: Bare Steel (BSRP) 2015 2016 2017 Mains & Services 11 miles 25 miles 30 miles   b.  No.   c-f: No, SoCalGas does not have a target leak rate per mile or per unit to achieve in determining replacement of mains and services.  question, 25- to 30-year time frame described in my testimony (Ex. SCG-14, pg. 26).  Success of the program will be measured based on achieving this objective.  As BSRP ramps up in the coming years, the program will be evaluating and addressing any constraints, such as resources, that would prevent this objective from being achieved.  Within the 25- to 30-year time frame, replacement of the poor performing bare steel pipelines will be prioritized by considering such criteria as pipeline age, cathodic protection, and performance.  Performance considers both completed leak repairs and leaks that are pending repairs.  With the objective of wholesale replacement of poor performing bare steel and the prioritized replacement strategy, the expected outcome of this program will be a reduction in leaks found, with measurable results in future years. SoCalGas has not calculated t or by the end of the GRC term.  g.   The BSRP estimates the number of miles of mains and services, and individual services over the period 2019-2022, not by individual year:  Bare Steel (BSRP) 2019-2022* Mains & Services 29 miles Targeted Services 2,500/yr * projected',\n",
       " 'CFC DATA REQUEST CFC-Sempra-2019 #18 SOCALGAS 2019 GRC  A.17-10-008 SDG&E 2019 GRC  A.17-10-007 DATE RECEIVED:  APRIL 26, 2018 DATE RESPONDED:  MAY 11, 2018  4. SCG-14, page MTM-27, discusses the goals of the PAAR program:  \"An overall decrease in the number and consequences of pipeline incidents is the goal, but it will take many years of accumulating data to determine with confidence that there is a declining trend.\"  a.  Does Sempra consider the simple number of leaks repaired as a direct proxy for the reduction in the number of potential incidents? Please explain.  b.  Does Sempra use calculated consequences in prioritizing the scheduled leak repairs for developing an annual (or GRC-term) budget for leak remediation?    Please explain.     SDG&E and SoCalGas Response 04:  a-b: The VIPP and BSRP programs identify pipelines for replacement based on material characteristics, environmental conditions, and historic performance.  These programs do not identify or prioritize the repair of leaks.  Please refer to Distribution Operations testimony (Ex. SCG-04-R Gina Orozco-Mejia) for leak mitigation and repair strategies.',\n",
       " 'CFC DATA REQUEST CFC-Sempra-2019 #18 SOCALGAS 2019 GRC  A.17-10-008 SDG&E 2019 GRC  A.17-10-007 DATE RECEIVED:  APRIL 26, 2018 DATE DUE:  MAY 11, 2018   Question 5a: SCG-15, page RDP-A-38, describes Key Performance Indicators (KPIs) used in assessing the PSEP programCG-14, page MTM-27, discusses the goals of the PAAR program:   \"The PMO develops reports and Key Performance Indicators (KPIs) at both the granular project level and the overall PSEP level. SoCalGas management, on a monthly basis, reviews the KPIs to monitor PSEP. Included in the KPIs are financial metrics, pressure testing and replacement progress metrics (e.g., number of projects that have entered construction and placed into service), valve metrics (e.g., number of valves that have entered construction and been placed into service), safety metrics, environmental compliance metrics, material availability metrics, Diverse Business Enterprise goals, and headcount. Qualitative data, including a summary of key accomplishments, constraints, and opportunities for improvement, is also reviewed by the PSEP PMO and SoCalGas management.\"   a. Please describe the financial and safety metrics that are used for PSEP. What safety improvement is expected to result from PSEP activities, during 2019?    SoCalGas Response 05a:  The PMO develops financial reports and Key Performance Indicators (KPIs) at both the granular project level and the overall PSEP program level. PSEP project teams and leadership use the reports to monitor project cost. This reporting provides a basis for coordinating and managing project actuals with estimates.    The primary objective of PSEP is to (1) enhance public safety; (2) comply with Commission directives; (3) minimize customer impacts; and (4) maximize the cost effectiveness of safety investments. This enhances the safety of the transmission system for our employees, our customers and the communities we serve. The program monitors both company and compliance with applicable safety standards.  The following are the financial and safety reports produced for PSEP to manage both financial and safety performance:',\n",
       " 'CFC DATA REQUEST CFC-Sempra-2019 #18 SOCALGAS 2019 GRC  A.17-10-008 SDG&E 2019 GRC  A.17-10-007 DATE RECEIVED:  APRIL 26, 2018 DATE DUE:  MAY 11, 2018  SoCalGas Response 05a Continued:  Report Description Level Executive Steering Committee Deck  overall program performance reports provided to the Executives  By SoCalGas and San Diego Gas & Electric                      Provides YTD Actual costs and forecast for the rest of the year by Capital and O&M The data is compared with yearly financial goals.  PSEP Estimates at Completion (EAC) range (fully loaded) by Phase 1 and 2.   Tracks Safety Metric for Total Recordable Injury Rate (TRIR) and Lost Time Incident (LTI). PSEP Work Order Authorization (WOA) Funding Report  Provides a comparison between the approved funding vs. the costs required to complete the project.  Provides status on WOA reauthorization requests. Project PSEP Monthly Progress Report  Provides Safety Metrics. PSEP Cost Report  Details cost of each project and PSEP wide cost by company and portfolio. All levels PM Bi-Weekly Planned vs. Forecast  Comparison of YTD actual cost vs. the PM re-baseline schedule cost. Portoflio Level Project Cashflow Report  Provide remaining cost for project on month to month basis. Was used to plan remiaining yearly spend until May 2015.  Project Project Outlook Report  Provides actual cost at YTD and PTD.  Costs are split into O&M, Capital and Shareholder categories at a company level (SoCalGas/San Diego Gas & Electric).  Month to Month costs (actual and forecats) at a project level.  Comments on variance in Estimates at Completion from last month.  Comparison of actual costs/forecast with SoCalGas/San Diego Gas & Electric financial plans. Project, Portfolio, Phase, PSEP KPI/Metrics  Tracks project actual spend vs forecast by month and year-to-date.  Establishes trends for all KPIs, including financial and safety.  Includes TRIR and LTI rate to track safety. PSEP Safety Metrics  Near misses/Stop the job.  PSEP Incident List.  PSEP Field Safety Observation. All levels',\n",
       " 'CFC DATA REQUEST CFC-Sempra-2019 #18 SOCALGAS 2019 GRC  A.17-10-008 SDG&E 2019 GRC  A.17-10-007 DATE RECEIVED:  APRIL 26, 2018 DATE DUE:  MAY 11, 2018  SoCalGas Response 05a Continued:  The ongoing PSEP work, which began in 2012, enables SoCalGas to continue to accomplish the PSEP objectives to enhance public safety, comply with Commission and legislative requirements, minimize impacts to the customers and communities we serve and maximize the efficiency of investments.  This is accomplished through the pressure testing and replacement of pipelines, including the replacement of decades-old, non piggable pipe and the continuing execution of the Valve Enhancement Plan to allow for the remote isolation and depressurization of a transmission pipeline in 30 minutes or less in the event of a pipeline rupture.',\n",
       " 'CFC DATA REQUEST CFC-Sempra-2019 #18 SOCALGAS 2019 GRC  A.17-10-008 SDG&E 2019 GRC  A.17-10-007 DATE RECEIVED:  APRIL 26, 2018 DATE DUE:  MAY 11, 2018  Question 6: SCG-15, page RDP-A-38, describes Key Performance Indicators (KPIs) used in assessing the PSEP programCG-14, page MTM-27, discusses the goals of the PAAR program:   \"The PMO develops reports and Key Performance Indicators (KPIs) at both the granular project level and the overall PSEP level. SoCalGas management, on a monthly basis, reviews the KPIs to monitor PSEP. Included in the KPIs are financial metrics, pressure testing and replacement progress metrics (e.g., number of projects that have entered construction and placed into service), valve metrics (e.g., number of valves that have entered construction and been placed into service), safety metrics, environmental compliance metrics, material availability metrics, Diverse Business Enterprise goals, and headcount. Qualitative data, including a summary of key accomplishments, constraints, and opportunities for improvement, is also reviewed by the PSEP PMO and SoCalGas management.\"   a. Please describe the financial and safety metrics that are used for PSEP. What safety improvement is expected to result from PSEP activities, during 2019?    SoCalGas Response 06:  See the response to Question 05 above.',\n",
       " 'CFC DATA REQUEST CFC-Sempra-2019 #18 SOCALGAS 2019 GRC  A.17-10-008 SDG&E 2019 GRC  A.17-10-007 DATE RECEIVED:  APRIL 26, 2018 DATE RESPONDED:  MAY 11, 2018  7. SCG-05, page OR-18, discusses Workforce Planning risk:   \"The Workforce Planning risk covers the risk of not having a suitable workforce with the right skills to meet business needs due to the acceleration of workforce attrition and evolving business needs. SoCalGas manages this risk of workforce planning through mitigations that have been developed and implemented over many years.\"   Page OR-19 describes Training for Technical, Non-HR personnel:    Technical Non-Human Resources (HR)  This mitigation focuses on technical training conducted by various organizations in the Company. Technical training is covered by other RAMP risks and includes skills training for employees to safely perform their jobs. Please refer to the RAMP Report for additional details. The costs associated with mitigation activities related to the risk of Workforce Planning are covered in the base year and the base forecasts...\"   a.  What does SCG typically spend on i) initial and ii) ongoing (annual) training for each gas distribution field service technician?  b.  What is the typical length of employment tenure for gas technicians, and how does SCG incent retention of those employees? Please explain.   SDG&E and SoCalGas Response 07:  SoCalGas objects to this request on the grounds that it is vague and ambiguous with respect to objection, SoCalGas responds as follows:    a. i) SoCalGas interprets this request as calling for the estimated average cost of initial training per gas distribution field technician as the following:    Employee labor: $5900   Gas Ops Trng Labor:  $5800  Hotels per employee: $3175  Employee Reimbursable Expense: $845  ii) SoCalGas interprets this request as calling for the estimated average cost of annual training per gas distribution field technician as $311.  Employee labor, hotels and reimbursable expenses for part a.i and a.ii are incurred by the Gas Distribution operations area under Field Support, as noted on page 64 of Exhibit SCG-04-R.  Gas Ops Training labor expenses are incurred by Gas System Integrity, as noted on pages 25-26 of Exhibit SCG-05-R.',\n",
       " \"CFC DATA REQUEST CFC-Sempra-2019 #18 SOCALGAS 2019 GRC  A.17-10-008 SDG&E 2019 GRC  A.17-10-007 DATE RECEIVED:  APRIL 26, 2018 DATE RESPONDED:  MAY 11, 2018  SDG&E and SoCalGas Response 07 Continued:  b. For the purposes of this question, the position of Construction Technician is used as an example for a gas technician. The average years of service for a Construction Technician is 5 years.  Even though a Construction Technician may remain in that classification for that length of time, the employee typically spends their career rotating between different assignments within the company that may require other specialized training.  Training for the Construction Technician position is foundational, and also serves as the prerequisite training for advancement to other positions.   SoCalGas incentivizes the retention of these employees by offering developmental training, as well as compensation and benefits.  Please refer to pages 25-26 of Exhibit SCG-05-R for a description of this training.  Please refer to the SCG-30 Direct Testimony of Debbie Robinson - Compensation & Benefits and SCG-32 Direct Testimony of Mary Gevorkian - Human Resources Department, Safety, Long-Term Disability & Workers' Compensation in regards to Compensation and Benefits.\"]"
      ]
     },
     "execution_count": 9,
     "metadata": {},
     "output_type": "execute_result"
    }
   ],
   "source": [
    "CLEAN_EXTRACT"
   ]
  },
  {
   "cell_type": "code",
   "execution_count": null,
   "metadata": {},
   "outputs": [],
   "source": []
  }
 ],
 "metadata": {
  "kernelspec": {
   "display_name": "Python 3",
   "language": "python",
   "name": "python3"
  },
  "language_info": {
   "codemirror_mode": {
    "name": "ipython",
    "version": 3
   },
   "file_extension": ".py",
   "mimetype": "text/x-python",
   "name": "python",
   "nbconvert_exporter": "python",
   "pygments_lexer": "ipython3",
   "version": "3.7.4"
  }
 },
 "nbformat": 4,
 "nbformat_minor": 2
}
