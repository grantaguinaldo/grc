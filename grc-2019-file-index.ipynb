{
 "cells": [
  {
   "cell_type": "code",
   "execution_count": 3,
   "metadata": {},
   "outputs": [],
   "source": [
    "from bs4 import BeautifulSoup as soup\n",
    "import pandas as pd\n",
    "import requests as r\n",
    "\n",
    "_r = r.get('https://www.socalgas.com/regulatory/A17-10-008.shtml')\n",
    "\n",
    "_soup = soup(_r.text, 'html.parser')\n",
    "\n",
    "links = _soup.findAll('div', {'class': 'container container-white'})\n",
    "\n",
    "url_list = ['https://www.socalgas.com' + each['href'] for each in links[0].find_all('a', href=True)]"
   ]
  },
  {
   "cell_type": "code",
   "execution_count": 5,
   "metadata": {},
   "outputs": [
    {
     "data": {
      "text/plain": [
       "['https://www.socalgas.com/regulatory/documents/a-17-10-008/SCG 2019 GRC Application-10-06-17-FINAL.PDF',\n",
       " 'https://www.socalgas.com/regulatory/documents/a-17-10-008/SCG-01-2R_JBLane_Second_Revised_Direct_Testimony.pdf',\n",
       " 'https://www.socalgas.com/regulatory/documents/a-17-10-008/SCG-02-R_SDG&E-02-R_Ch_1_Day_Prepared_Direct_Testimony.pdf',\n",
       " 'https://www.socalgas.com/regulatory/documents/a-17-10-008/SCG-03-R_SDGE-03-R Hal Snyder and Randall Clark REVISED Direct Testimony.pdf',\n",
       " 'https://www.socalgas.com/regulatory/documents/a-17-10-008/SCG-04-R_Orozco-Mejia_Prepared_Direct_Testimony-1.pdf',\n",
       " 'https://www.socalgas.com/regulatory/documents/a-17-10-008/SCG-05-R_Rivera_Prepared_Direct_Testimony.pdf',\n",
       " 'https://www.socalgas.com/regulatory/documents/a-17-10-008/SCG-06 Musich Prepared Direct Testimony.pdf',\n",
       " 'https://www.socalgas.com/regulatory/documents/a-17-10-008/SCG-07 Musich and Bermel Prepared Direct Testimony.pdf',\n",
       " 'https://www.socalgas.com/regulatory/documents/a-17-10-008/SCG-08-R_Bermel_Prepared_Direct_Testimony.pdf',\n",
       " 'https://www.socalgas.com/regulatory/documents/a-17-10-008/SCG-09-R_DHaines_Prepared_Direct_Testimony.pdf']"
      ]
     },
     "execution_count": 5,
     "metadata": {},
     "output_type": "execute_result"
    }
   ],
   "source": [
    "url_list[:10]"
   ]
  },
  {
   "cell_type": "code",
   "execution_count": 6,
   "metadata": {},
   "outputs": [],
   "source": [
    "file_list = [each.split('/')[-1] for each in url_list]"
   ]
  },
  {
   "cell_type": "code",
   "execution_count": 8,
   "metadata": {},
   "outputs": [
    {
     "data": {
      "text/plain": [
       "['SCG 2019 GRC Application-10-06-17-FINAL.PDF',\n",
       " 'SCG-01-2R_JBLane_Second_Revised_Direct_Testimony.pdf',\n",
       " 'SCG-02-R_SDG&E-02-R_Ch_1_Day_Prepared_Direct_Testimony.pdf',\n",
       " 'SCG-03-R_SDGE-03-R Hal Snyder and Randall Clark REVISED Direct Testimony.pdf',\n",
       " 'SCG-04-R_Orozco-Mejia_Prepared_Direct_Testimony-1.pdf',\n",
       " 'SCG-05-R_Rivera_Prepared_Direct_Testimony.pdf',\n",
       " 'SCG-06 Musich Prepared Direct Testimony.pdf',\n",
       " 'SCG-07 Musich and Bermel Prepared Direct Testimony.pdf',\n",
       " 'SCG-08-R_Bermel_Prepared_Direct_Testimony.pdf',\n",
       " 'SCG-09-R_DHaines_Prepared_Direct_Testimony.pdf']"
      ]
     },
     "execution_count": 8,
     "metadata": {},
     "output_type": "execute_result"
    }
   ],
   "source": [
    "file_list[:10]"
   ]
  },
  {
   "cell_type": "code",
   "execution_count": 15,
   "metadata": {},
   "outputs": [],
   "source": [
    "grc_2019_index = pd.DataFrame({'file_name': file_list, 'file_url': url_list})"
   ]
  },
  {
   "cell_type": "code",
   "execution_count": 19,
   "metadata": {},
   "outputs": [],
   "source": [
    "grc_2019_index['file_index'] = grc_2019_index.index + 2019000"
   ]
  },
  {
   "cell_type": "code",
   "execution_count": 20,
   "metadata": {},
   "outputs": [
    {
     "data": {
      "text/html": [
       "<div>\n",
       "<style scoped>\n",
       "    .dataframe tbody tr th:only-of-type {\n",
       "        vertical-align: middle;\n",
       "    }\n",
       "\n",
       "    .dataframe tbody tr th {\n",
       "        vertical-align: top;\n",
       "    }\n",
       "\n",
       "    .dataframe thead th {\n",
       "        text-align: right;\n",
       "    }\n",
       "</style>\n",
       "<table border=\"1\" class=\"dataframe\">\n",
       "  <thead>\n",
       "    <tr style=\"text-align: right;\">\n",
       "      <th></th>\n",
       "      <th>file_index</th>\n",
       "      <th>file_name</th>\n",
       "      <th>file_url</th>\n",
       "    </tr>\n",
       "  </thead>\n",
       "  <tbody>\n",
       "    <tr>\n",
       "      <td>0</td>\n",
       "      <td>2019000</td>\n",
       "      <td>SCG 2019 GRC Application-10-06-17-FINAL.PDF</td>\n",
       "      <td>https://www.socalgas.com/regulatory/documents/...</td>\n",
       "    </tr>\n",
       "    <tr>\n",
       "      <td>1</td>\n",
       "      <td>2019001</td>\n",
       "      <td>SCG-01-2R_JBLane_Second_Revised_Direct_Testimo...</td>\n",
       "      <td>https://www.socalgas.com/regulatory/documents/...</td>\n",
       "    </tr>\n",
       "    <tr>\n",
       "      <td>2</td>\n",
       "      <td>2019002</td>\n",
       "      <td>SCG-02-R_SDG&amp;E-02-R_Ch_1_Day_Prepared_Direct_T...</td>\n",
       "      <td>https://www.socalgas.com/regulatory/documents/...</td>\n",
       "    </tr>\n",
       "    <tr>\n",
       "      <td>3</td>\n",
       "      <td>2019003</td>\n",
       "      <td>SCG-03-R_SDGE-03-R Hal Snyder and Randall Clar...</td>\n",
       "      <td>https://www.socalgas.com/regulatory/documents/...</td>\n",
       "    </tr>\n",
       "    <tr>\n",
       "      <td>4</td>\n",
       "      <td>2019004</td>\n",
       "      <td>SCG-04-R_Orozco-Mejia_Prepared_Direct_Testimon...</td>\n",
       "      <td>https://www.socalgas.com/regulatory/documents/...</td>\n",
       "    </tr>\n",
       "  </tbody>\n",
       "</table>\n",
       "</div>"
      ],
      "text/plain": [
       "   file_index                                          file_name  \\\n",
       "0     2019000        SCG 2019 GRC Application-10-06-17-FINAL.PDF   \n",
       "1     2019001  SCG-01-2R_JBLane_Second_Revised_Direct_Testimo...   \n",
       "2     2019002  SCG-02-R_SDG&E-02-R_Ch_1_Day_Prepared_Direct_T...   \n",
       "3     2019003  SCG-03-R_SDGE-03-R Hal Snyder and Randall Clar...   \n",
       "4     2019004  SCG-04-R_Orozco-Mejia_Prepared_Direct_Testimon...   \n",
       "\n",
       "                                            file_url  \n",
       "0  https://www.socalgas.com/regulatory/documents/...  \n",
       "1  https://www.socalgas.com/regulatory/documents/...  \n",
       "2  https://www.socalgas.com/regulatory/documents/...  \n",
       "3  https://www.socalgas.com/regulatory/documents/...  \n",
       "4  https://www.socalgas.com/regulatory/documents/...  "
      ]
     },
     "execution_count": 20,
     "metadata": {},
     "output_type": "execute_result"
    }
   ],
   "source": [
    "grc_2019_index[['file_index', 'file_name', 'file_url']].head()"
   ]
  },
  {
   "cell_type": "code",
   "execution_count": 21,
   "metadata": {},
   "outputs": [],
   "source": [
    "grc_2019_index[['file_index', 'file_name', 'file_url']].to_csv('grc_2019_file_index.csv', index=False)"
   ]
  },
  {
   "cell_type": "code",
   "execution_count": null,
   "metadata": {},
   "outputs": [],
   "source": []
  }
 ],
 "metadata": {
  "kernelspec": {
   "display_name": "Python 3",
   "language": "python",
   "name": "python3"
  },
  "language_info": {
   "codemirror_mode": {
    "name": "ipython",
    "version": 3
   },
   "file_extension": ".py",
   "mimetype": "text/x-python",
   "name": "python",
   "nbconvert_exporter": "python",
   "pygments_lexer": "ipython3",
   "version": "3.7.4"
  }
 },
 "nbformat": 4,
 "nbformat_minor": 2
}
