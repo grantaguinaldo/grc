{
 "cells": [
  {
   "cell_type": "code",
   "execution_count": 2,
   "metadata": {},
   "outputs": [
    {
     "name": "stdout",
     "output_type": "stream",
     "text": [
      "['https://www.socalgas.com/regulatory/documents/a-17-10-008/Ex-233R-Revised-SCG-15-WP-S-PSEP_Redacted_7-27-18.pdf', 'https://www.socalgas.com/regulatory/documents/a-17-10-008/ORA-SCG-133-OE2_Final.pdf', 'https://www.socalgas.com/regulatory/documents/a-17-10-008/NDC-SEU-001_Final Combined.pdf', 'https://www.socalgas.com/regulatory/documents/a-17-10-008/SCG-08-WP MBermel - Gas Major Projects.pdf', 'https://www.socalgas.com/regulatory/documents/a-17-10-008/CUE SCG DR-13 Q 349-352 combined.pdf', 'https://www.socalgas.com/regulatory/documents/a-17-10-008/CUE-SEU-DR-04_Q_241_Final.pdf', 'https://www.socalgas.com/regulatory/documents/a-17-10-008/SCG-11-WP-S DBuczkowski - ACTR Project Cost and Schedule Workpapers.pdf', 'https://www.socalgas.com/regulatory/documents/a-17-10-008/SCG-16-WP MLazarus - Gas Procurement.pdf', 'https://www.socalgas.com/regulatory/documents/a-17-10-008/ORA-SCG-122-LMW_Final.pdf', 'https://www.socalgas.com/regulatory/documents/a-17-10-008/SCG-17-CWP RGarcia - Advanced Metering Infrastructure Policy.pdf']\n"
     ]
    }
   ],
   "source": [
    "import json\n",
    "\n",
    "json_output_path = 'grc_doc_002.json'\n",
    "\n",
    "with open(json_output_path) as f:\n",
    "    data = json.load(f)\n",
    "    blobUrlRaw = [each['metadata_storage_path'] for each in data['value']]\n",
    "    print(blobUrlRaw)"
   ]
  },
  {
   "cell_type": "code",
   "execution_count": null,
   "metadata": {},
   "outputs": [],
   "source": []
  }
 ],
 "metadata": {
  "kernelspec": {
   "display_name": "Python 3",
   "language": "python",
   "name": "python3"
  },
  "language_info": {
   "codemirror_mode": {
    "name": "ipython",
    "version": 3
   },
   "file_extension": ".py",
   "mimetype": "text/x-python",
   "name": "python",
   "nbconvert_exporter": "python",
   "pygments_lexer": "ipython3",
   "version": "3.7.4"
  }
 },
 "nbformat": 4,
 "nbformat_minor": 2
}
